{
  "cells": [
    {
      "cell_type": "markdown",
      "metadata": {
        "id": "d6ba5f37-d2e8-4c27-9d68-da5f75bb76ec"
      },
      "source": [
        "<p style=\"text-align:center\">\n",
        "    <a href=\"https://skills.network\" target=\"_blank\">\n",
        "    <img src=\"https://cf-courses-data.s3.us.cloud-object-storage.appdomain.cloud/assets/logos/SN_web_lightmode.png\" width=\"200\" alt=\"Skills Network Logo\">\n",
        "    </a>\n",
        "</p>\n"
      ]
    },
    {
      "cell_type": "markdown",
      "metadata": {
        "id": "b6705847-5681-4929-9cac-4345ea8255a8"
      },
      "source": [
        "# **Space X  Falcon 9 First Stage Landing Prediction**\n"
      ]
    },
    {
      "cell_type": "markdown",
      "metadata": {
        "id": "5159c469-8a49-4c42-a65d-d6fa3583c7b1"
      },
      "source": [
        "## Web scraping Falcon 9 and Falcon Heavy Launches Records from Wikipedia\n"
      ]
    },
    {
      "cell_type": "markdown",
      "metadata": {
        "id": "da32a7c8-9d55-4a99-a24f-22697db62448"
      },
      "source": [
        "Estimated time needed: **40** minutes\n"
      ]
    },
    {
      "cell_type": "markdown",
      "metadata": {
        "id": "cde166dc-e8cc-4aba-a8d4-07b78dacf4f4"
      },
      "source": [
        "In this lab, you will be performing web scraping to collect Falcon 9 historical launch records from a Wikipedia page titled `List of Falcon 9 and Falcon Heavy launches`\n",
        "\n",
        "https://en.wikipedia.org/wiki/List_of_Falcon_9_and_Falcon_Heavy_launches\n"
      ]
    },
    {
      "cell_type": "markdown",
      "metadata": {
        "id": "812d5c6a-6a8b-484d-b881-c6d8f5506de1"
      },
      "source": [
        "![](https://cf-courses-data.s3.us.cloud-object-storage.appdomain.cloud/IBM-DS0321EN-SkillsNetwork/labs/module_1_L2/images/Falcon9_rocket_family.svg)\n"
      ]
    },
    {
      "cell_type": "markdown",
      "metadata": {
        "id": "6f73dc38-3517-4005-9abc-0adc2f149c96"
      },
      "source": [
        "Falcon 9 first stage will land successfully\n"
      ]
    },
    {
      "cell_type": "markdown",
      "metadata": {
        "id": "c70f4eac-b60f-4f12-b9e3-0d04d8ac4c15"
      },
      "source": [
        "![](https://cf-courses-data.s3.us.cloud-object-storage.appdomain.cloud/IBMDeveloperSkillsNetwork-DS0701EN-SkillsNetwork/api/Images/landing_1.gif)\n"
      ]
    },
    {
      "cell_type": "markdown",
      "metadata": {
        "id": "e602025b-902c-41f4-8b4c-5580535e7bca"
      },
      "source": [
        "Several examples of an unsuccessful landing are shown here:\n"
      ]
    },
    {
      "cell_type": "markdown",
      "metadata": {
        "id": "c61bdf55-9538-4356-a0b6-ae95b9270f87"
      },
      "source": [
        "![](https://cf-courses-data.s3.us.cloud-object-storage.appdomain.cloud/IBMDeveloperSkillsNetwork-DS0701EN-SkillsNetwork/api/Images/crash.gif)\n"
      ]
    },
    {
      "cell_type": "markdown",
      "metadata": {
        "id": "f02dca7a-c9d6-4c64-9741-999247032b54"
      },
      "source": [
        "More specifically, the launch records are stored in a HTML table shown below:\n"
      ]
    },
    {
      "cell_type": "markdown",
      "metadata": {
        "id": "f8e601b6-2fda-4524-9e18-a3a26db0446c"
      },
      "source": [
        "![](https://cf-courses-data.s3.us.cloud-object-storage.appdomain.cloud/IBM-DS0321EN-SkillsNetwork/labs/module_1_L2/images/falcon9-launches-wiki.png)\n"
      ]
    },
    {
      "cell_type": "markdown",
      "metadata": {
        "id": "78b4c601-5556-4f25-808c-c6b55fadb593"
      },
      "source": [
        "  ## Objectives\n",
        "Web scrap Falcon 9 launch records with `BeautifulSoup`:\n",
        "- Extract a Falcon 9 launch records HTML table from Wikipedia\n",
        "- Parse the table and convert it into a Pandas data frame\n"
      ]
    },
    {
      "cell_type": "markdown",
      "metadata": {
        "id": "806faaa2-5bc8-4c5f-8560-a09278ee1a35"
      },
      "source": [
        "First let's import required packages for this lab\n"
      ]
    },
    {
      "cell_type": "code",
      "metadata": {
        "colab": {
          "base_uri": "https://localhost:8080/"
        },
        "id": "a2a7c4a5-dc2a-4d6f-9742-50018e52e881",
        "outputId": "3bd16752-7e49-4b65-f0d2-45c23431bb68"
      },
      "outputs": [
        {
          "output_type": "stream",
          "name": "stdout",
          "text": [
            "Requirement already satisfied: beautifulsoup4 in /usr/local/lib/python3.10/dist-packages (4.12.3)\n",
            "Requirement already satisfied: soupsieve>1.2 in /usr/local/lib/python3.10/dist-packages (from beautifulsoup4) (2.5)\n",
            "Requirement already satisfied: requests in /usr/local/lib/python3.10/dist-packages (2.31.0)\n",
            "Requirement already satisfied: charset-normalizer<4,>=2 in /usr/local/lib/python3.10/dist-packages (from requests) (3.3.2)\n",
            "Requirement already satisfied: idna<4,>=2.5 in /usr/local/lib/python3.10/dist-packages (from requests) (3.7)\n",
            "Requirement already satisfied: urllib3<3,>=1.21.1 in /usr/local/lib/python3.10/dist-packages (from requests) (2.0.7)\n",
            "Requirement already satisfied: certifi>=2017.4.17 in /usr/local/lib/python3.10/dist-packages (from requests) (2024.2.2)\n"
          ]
        }
      ],
      "source": [
        "!pip3 install beautifulsoup4\n",
        "!pip3 install requests"
      ],
      "execution_count": null
    },
    {
      "cell_type": "code",
      "metadata": {
        "id": "7c8d3cc9-5877-4b5f-9e31-8ea50f8cf029"
      },
      "outputs": [],
      "source": [
        "import sys\n",
        "\n",
        "import requests\n",
        "from bs4 import BeautifulSoup\n",
        "import re\n",
        "import unicodedata\n",
        "import pandas as pd"
      ],
      "execution_count": null
    },
    {
      "cell_type": "markdown",
      "metadata": {
        "id": "8c352dd2-7d80-4e13-94d0-f50d56ea43fc"
      },
      "source": [
        "and we will provide some helper functions for you to process web scraped HTML table\n"
      ]
    },
    {
      "cell_type": "code",
      "metadata": {
        "id": "f2c6c9f4-3a62-45e6-800f-6faef30117c4"
      },
      "outputs": [],
      "source": [
        "def date_time(table_cells):\n",
        "    \"\"\"\n",
        "    This function returns the data and time from the HTML  table cell\n",
        "    Input: the  element of a table data cell extracts extra row\n",
        "    \"\"\"\n",
        "    return [data_time.strip() for data_time in list(table_cells.strings)][0:2]\n",
        "\n",
        "def booster_version(table_cells):\n",
        "    \"\"\"\n",
        "    This function returns the booster version from the HTML  table cell\n",
        "    Input: the  element of a table data cell extracts extra row\n",
        "    \"\"\"\n",
        "    out=''.join([booster_version for i,booster_version in enumerate( table_cells.strings) if i%2==0][0:-1])\n",
        "    return out\n",
        "\n",
        "def landing_status(table_cells):\n",
        "    \"\"\"\n",
        "    This function returns the landing status from the HTML table cell\n",
        "    Input: the  element of a table data cell extracts extra row\n",
        "    \"\"\"\n",
        "    out=[i for i in table_cells.strings][0]\n",
        "    return out\n",
        "\n",
        "\n",
        "def get_mass(table_cells):\n",
        "    mass=unicodedata.normalize(\"NFKD\", table_cells.text).strip()\n",
        "    if mass:\n",
        "        mass.find(\"kg\")\n",
        "        new_mass=mass[0:mass.find(\"kg\")+2]\n",
        "    else:\n",
        "        new_mass=0\n",
        "    return new_mass\n",
        "\n",
        "\n",
        "def extract_column_from_header(row):\n",
        "    \"\"\"\n",
        "    This function returns the landing status from the HTML table cell\n",
        "    Input: the  element of a table data cell extracts extra row\n",
        "    \"\"\"\n",
        "    if (row.br):\n",
        "        row.br.extract()\n",
        "    if row.a:\n",
        "        row.a.extract()\n",
        "    if row.sup:\n",
        "        row.sup.extract()\n",
        "\n",
        "    colunm_name = ' '.join(row.contents)\n",
        "\n",
        "    # Filter the digit and empty names\n",
        "    if not(colunm_name.strip().isdigit()):\n",
        "        colunm_name = colunm_name.strip()\n",
        "        return colunm_name\n"
      ],
      "execution_count": null
    },
    {
      "cell_type": "markdown",
      "metadata": {
        "id": "d6d67823-0c37-47f9-9534-893059126d1f"
      },
      "source": [
        "To keep the lab tasks consistent, you will be asked to scrape the data from a snapshot of the  `List of Falcon 9 and Falcon Heavy launches` Wikipage updated on\n",
        "`9th June 2021`\n"
      ]
    },
    {
      "cell_type": "code",
      "metadata": {
        "id": "9a2a0107-2cb2-487b-a064-83213465278f"
      },
      "outputs": [],
      "source": [
        "static_url = \"https://en.wikipedia.org/w/index.php?title=List_of_Falcon_9_and_Falcon_Heavy_launches&oldid=1027686922\""
      ],
      "execution_count": null
    },
    {
      "cell_type": "markdown",
      "metadata": {
        "id": "67b0cd55-40eb-41b9-9ecc-988688157222"
      },
      "source": [
        "Next, request the HTML page from the above URL and get a `response` object\n"
      ]
    },
    {
      "cell_type": "markdown",
      "metadata": {
        "id": "ec540cbf-717c-450d-923e-e1080830ecc7"
      },
      "source": [
        "### TASK 1: Request the Falcon9 Launch Wiki page from its URL\n"
      ]
    },
    {
      "cell_type": "markdown",
      "metadata": {
        "id": "f81f9361-d844-41fb-b0c7-0c044e119338"
      },
      "source": [
        "First, let's perform an HTTP GET method to request the Falcon9 Launch HTML page, as an HTTP response.\n"
      ]
    },
    {
      "cell_type": "code",
      "metadata": {
        "id": "27209bf6-7bb3-4a02-ade6-e637c0c145ad"
      },
      "outputs": [],
      "source": [
        "# use requests.get() method with the provided static_url\n",
        "response = requests.get(static_url)\n",
        "# assign the response to a object\n"
      ],
      "execution_count": null
    },
    {
      "cell_type": "markdown",
      "metadata": {
        "id": "ff539ad6-eee9-48f9-ba1a-190006e91669"
      },
      "source": [
        "Create a `BeautifulSoup` object from the HTML `response`\n"
      ]
    },
    {
      "cell_type": "code",
      "metadata": {
        "id": "91ea6dde-5579-4e99-b761-6337cd0313d8"
      },
      "outputs": [],
      "source": [
        "# Use BeautifulSoup() to create a BeautifulSoup object from a response text content\n",
        "soup = BeautifulSoup(response.text, 'html.parser')\n"
      ],
      "execution_count": null
    },
    {
      "cell_type": "markdown",
      "metadata": {
        "id": "666031e6-2570-410e-8a4a-3661b3b574cd"
      },
      "source": [
        "Print the page title to verify if the `BeautifulSoup` object was created properly\n"
      ]
    },
    {
      "cell_type": "code",
      "source": [
        "# Use soup.title attribute\n",
        "\n",
        "print(soup.title)\n"
      ],
      "metadata": {
        "colab": {
          "base_uri": "https://localhost:8080/"
        },
        "id": "qg6Uan6RJFQu",
        "outputId": "0824eb55-81d6-4367-d06e-a3284b60f75d"
      },
      "execution_count": null,
      "outputs": [
        {
          "output_type": "stream",
          "name": "stdout",
          "text": [
            "<title>List of Falcon 9 and Falcon Heavy launches - Wikipedia</title>\n"
          ]
        }
      ]
    },
    {
      "cell_type": "markdown",
      "metadata": {
        "id": "87db314c-5342-48f4-9973-431fd0281e27"
      },
      "source": [
        "### TASK 2: Extract all column/variable names from the HTML table header\n"
      ]
    },
    {
      "cell_type": "markdown",
      "metadata": {
        "id": "c7e5769a-db7e-44ff-99c2-40984d88edb6"
      },
      "source": [
        "Next, we want to collect all relevant column names from the HTML table header\n"
      ]
    },
    {
      "cell_type": "markdown",
      "metadata": {
        "id": "ba9f8358-9095-4db1-a969-a223a17c2b22"
      },
      "source": [
        "Let's try to find all tables on the wiki page first. If you need to refresh your memory about `BeautifulSoup`, please check the external reference link towards the end of this lab\n"
      ]
    },
    {
      "cell_type": "code",
      "metadata": {
        "id": "f345ea64-4f62-4212-b1f2-ec4cca23b0f4"
      },
      "outputs": [],
      "source": [
        "# Use the find_all function in the BeautifulSoup object, with element type `table`\n",
        "tables = soup.find_all('table')\n",
        "# Assign the result to a list called `html_tables`\n",
        "html_tables = soup.find_all('table', class_='wikitable plainrowheaders collapsible')"
      ],
      "execution_count": null
    },
    {
      "cell_type": "markdown",
      "metadata": {
        "id": "75479d6e-7283-4fdd-b52d-8c4eb283f069"
      },
      "source": [
        "Starting from the third table is our target table contains the actual launch records.\n"
      ]
    },
    {
      "cell_type": "code",
      "metadata": {
        "colab": {
          "base_uri": "https://localhost:8080/"
        },
        "id": "39127b09-9bc8-4afa-b7df-6cb3f57bd59b",
        "outputId": "bcddd279-95e9-493b-fdb6-21fcc40ba61e"
      },
      "outputs": [
        {
          "output_type": "stream",
          "name": "stdout",
          "text": [
            "<table class=\"wikitable plainrowheaders collapsible\" style=\"width: 100%;\">\n",
            "<tbody><tr>\n",
            "<th scope=\"col\">Flight No.\n",
            "</th>\n",
            "<th scope=\"col\">Date and<br/>time (<a href=\"/wiki/Coordinated_Universal_Time\" title=\"Coordinated Universal Time\">UTC</a>)\n",
            "</th>\n",
            "<th scope=\"col\"><a href=\"/wiki/List_of_Falcon_9_first-stage_boosters\" title=\"List of Falcon 9 first-stage boosters\">Version,<br/>Booster</a><sup class=\"reference\" id=\"cite_ref-booster_11-2\"><a href=\"#cite_note-booster-11\">[b]</a></sup>\n",
            "</th>\n",
            "<th scope=\"col\">Launch site\n",
            "</th>\n",
            "<th scope=\"col\">Payload<sup class=\"reference\" id=\"cite_ref-Dragon_12-2\"><a href=\"#cite_note-Dragon-12\">[c]</a></sup>\n",
            "</th>\n",
            "<th scope=\"col\">Payload mass\n",
            "</th>\n",
            "<th scope=\"col\">Orbit\n",
            "</th>\n",
            "<th scope=\"col\">Customer\n",
            "</th>\n",
            "<th scope=\"col\">Launch<br/>outcome\n",
            "</th>\n",
            "<th scope=\"col\"><a href=\"/wiki/Falcon_9_first-stage_landing_tests\" title=\"Falcon 9 first-stage landing tests\">Booster<br/>landing</a>\n",
            "</th></tr>\n",
            "<tr>\n",
            "<th rowspan=\"2\" scope=\"row\" style=\"text-align:center;\">14\n",
            "</th>\n",
            "<td>10 January 2015,<br/>09:47<sup class=\"reference\" id=\"cite_ref-nasa20150107_74-0\"><a href=\"#cite_note-nasa20150107-74\">[67]</a></sup>\n",
            "</td>\n",
            "<td><a href=\"/wiki/Falcon_9_v1.1\" title=\"Falcon 9 v1.1\">F9 v1.1</a><br/>B1012<sup class=\"reference\" id=\"cite_ref-block_numbers_14-8\"><a href=\"#cite_note-block_numbers-14\">[8]</a></sup>\n",
            "</td>\n",
            "<td><a href=\"/wiki/Cape_Canaveral_Space_Force_Station\" title=\"Cape Canaveral Space Force Station\">Cape Canaveral</a>,<br/><a href=\"/wiki/Cape_Canaveral_Space_Launch_Complex_40\" title=\"Cape Canaveral Space Launch Complex 40\">LC-40</a>\n",
            "</td>\n",
            "<td><a href=\"/wiki/SpaceX_CRS-5\" title=\"SpaceX CRS-5\">SpaceX CRS-5</a><sup class=\"reference\" id=\"cite_ref-sxManifest20130731_75-0\"><a href=\"#cite_note-sxManifest20130731-75\">[68]</a></sup><br/>(Dragon C107)\n",
            "</td>\n",
            "<td>2,395 kg (5,280 lb)<sup class=\"reference\" id=\"cite_ref-76\"><a href=\"#cite_note-76\">[69]</a></sup>\n",
            "</td>\n",
            "<td><a class=\"mw-redirect\" href=\"/wiki/Low_Earth_Orbit\" title=\"Low Earth Orbit\">LEO</a> (<a class=\"mw-redirect\" href=\"/wiki/ISS\" title=\"ISS\">ISS</a>)\n",
            "</td>\n",
            "<td><a href=\"/wiki/NASA\" title=\"NASA\">NASA</a> (<a href=\"/wiki/Commercial_Resupply_Services\" title=\"Commercial Resupply Services\">CRS</a>)\n",
            "</td>\n",
            "<td class=\"table-success\" style=\"background: #9EFF9E; vertical-align: middle; text-align: center;\">Success<sup class=\"reference\" id=\"cite_ref-nasacrs520150110_77-0\"><a href=\"#cite_note-nasacrs520150110-77\">[70]</a></sup>\n",
            "</td>\n",
            "<td class=\"table-failure\" style=\"background: #FFC7C7; vertical-align: middle; text-align: center;\">Failure <small><span class=\"nowrap\">(drone ship)</span></small>\n",
            "</td></tr>\n",
            "<tr>\n",
            "<td colspan=\"9\">Following second-stage separation, SpaceX attempted to <a href=\"/wiki/Falcon_9_first-stage_landing_tests\" title=\"Falcon 9 first-stage landing tests\">return</a> the first stage for the first time to a 90 m × 50 m (300 ft × 160 ft) <a class=\"mw-redirect\" href=\"/wiki/Floating_landing_platform\" title=\"Floating landing platform\">floating platform</a> — called the <a href=\"/wiki/Autonomous_spaceport_drone_ship\" title=\"Autonomous spaceport drone ship\">autonomous spaceport drone ship</a>. The test achieved many objectives and returned a large amount of data, but the <a href=\"/wiki/Grid_fin\" title=\"Grid fin\">grid-fin</a> control surfaces used for the first time for more precise reentry positioning ran out of hydraulic fluid for its control system a minute before landing, resulting in a landing crash.<sup class=\"reference\" id=\"cite_ref-sfn20150110_78-0\"><a href=\"#cite_note-sfn20150110-78\">[71]</a></sup>\n",
            "</td></tr>\n",
            "<tr>\n",
            "<th rowspan=\"2\" scope=\"row\" style=\"text-align:center;\">15\n",
            "</th>\n",
            "<td>11 February 2015,<br/>23:03<sup class=\"reference\" id=\"cite_ref-79\"><a href=\"#cite_note-79\">[72]</a></sup>\n",
            "</td>\n",
            "<td><a href=\"/wiki/Falcon_9_v1.1\" title=\"Falcon 9 v1.1\">F9 v1.1</a><br/>B1013<sup class=\"reference\" id=\"cite_ref-block_numbers_14-9\"><a href=\"#cite_note-block_numbers-14\">[8]</a></sup>\n",
            "</td>\n",
            "<td><a href=\"/wiki/Cape_Canaveral_Space_Force_Station\" title=\"Cape Canaveral Space Force Station\">Cape Canaveral</a>,<br/><a href=\"/wiki/Cape_Canaveral_Space_Launch_Complex_40\" title=\"Cape Canaveral Space Launch Complex 40\">LC-40</a>\n",
            "</td>\n",
            "<td><a class=\"mw-redirect\" href=\"/wiki/DSCOVR\" title=\"DSCOVR\">DSCOVR</a><sup class=\"reference\" id=\"cite_ref-sxManifest20130731_75-1\"><a href=\"#cite_note-sxManifest20130731-75\">[68]</a></sup><sup class=\"reference\" id=\"cite_ref-80\"><a href=\"#cite_note-80\">[73]</a></sup>\n",
            "</td>\n",
            "<td>570 kg (1,260 lb)\n",
            "</td>\n",
            "<td><a href=\"/wiki/High_Earth_orbit\" title=\"High Earth orbit\">HEO</a><br/>(<a href=\"/wiki/Lagrange_point\" title=\"Lagrange point\">Sun–Earth L<sub>1</sub></a> insertion)\n",
            "</td>\n",
            "<td><link href=\"mw-data:TemplateStyles:r1126788409\" rel=\"mw-deduplicated-inline-style\"/><div class=\"plainlist\">\n",
            "<ul><li><a href=\"/wiki/United_States_Air_Force\" title=\"United States Air Force\">USAF</a></li>\n",
            "<li><a href=\"/wiki/NASA\" title=\"NASA\">NASA</a></li>\n",
            "<li><a class=\"mw-redirect\" href=\"/wiki/NOAA\" title=\"NOAA\">NOAA</a></li></ul>\n",
            "</div>\n",
            "</td>\n",
            "<td class=\"table-success\" style=\"background: #9EFF9E; vertical-align: middle; text-align: center;\">Success\n",
            "</td>\n",
            "<td class=\"partial table-partial\" style=\"background: #BFE; vertical-align: middle; text-align: center;\">Controlled<br/><small>(ocean)</small><sup class=\"reference\" id=\"cite_ref-ocean_landing_38-4\"><a href=\"#cite_note-ocean_landing-38\">[d]</a></sup>\n",
            "</td></tr>\n",
            "<tr>\n",
            "<td colspan=\"9\">First launch under USAF's <a href=\"/wiki/List_of_U.S._government_and_military_acronyms#O\" title=\"List of U.S. government and military acronyms\">OSP</a> 3 launch contract.<sup class=\"reference\" id=\"cite_ref-spx20121205_81-0\"><a href=\"#cite_note-spx20121205-81\">[74]</a></sup> First SpaceX launch to put a satellite beyond a geostationary transfer orbit, first SpaceX launch into interplanetary space, and first SpaceX launch of an American research satellite. The first stage made a test flight descent to an over-ocean landing within 10 m (33 ft) of its intended target.<sup class=\"reference\" id=\"cite_ref-MuskTweet-20150211_82-0\"><a href=\"#cite_note-MuskTweet-20150211-82\">[75]</a></sup>\n",
            "</td></tr>\n",
            "<tr>\n",
            "<th rowspan=\"2\" scope=\"row\" style=\"text-align:center;\">16\n",
            "</th>\n",
            "<td>2 March 2015,<br/>03:50<sup class=\"reference\" id=\"cite_ref-SFN_LLog_27-3\"><a href=\"#cite_note-SFN_LLog-27\">[21]</a></sup><sup class=\"reference\" id=\"cite_ref-patrickafmil02142015_83-0\"><a href=\"#cite_note-patrickafmil02142015-83\">[76]</a></sup>\n",
            "</td>\n",
            "<td><a href=\"/wiki/Falcon_9_v1.1\" title=\"Falcon 9 v1.1\">F9 v1.1</a><br/>B1014<sup class=\"reference\" id=\"cite_ref-block_numbers_14-10\"><a href=\"#cite_note-block_numbers-14\">[8]</a></sup>\n",
            "</td>\n",
            "<td><a href=\"/wiki/Cape_Canaveral_Space_Force_Station\" title=\"Cape Canaveral Space Force Station\">Cape Canaveral</a>,<br/><a href=\"/wiki/Cape_Canaveral_Space_Launch_Complex_40\" title=\"Cape Canaveral Space Launch Complex 40\">LC-40</a>\n",
            "</td>\n",
            "<td><link href=\"mw-data:TemplateStyles:r1126788409\" rel=\"mw-deduplicated-inline-style\"/><div class=\"plainlist\">\n",
            "<ul><li><a href=\"/wiki/ABS-3A\" title=\"ABS-3A\">ABS-3A</a></li>\n",
            "<li><a href=\"/wiki/Eutelsat_115_West_B\" title=\"Eutelsat 115 West B\">Eutelsat 115 West B</a><sup class=\"reference\" id=\"cite_ref-sxManifest20130731_75-2\"><a href=\"#cite_note-sxManifest20130731-75\">[68]</a></sup></li></ul>\n",
            "</div>\n",
            "</td>\n",
            "<td>4,159 kg (9,169 lb)\n",
            "</td>\n",
            "<td><a href=\"/wiki/Geostationary_transfer_orbit\" title=\"Geostationary transfer orbit\">GTO</a>\n",
            "</td>\n",
            "<td><link href=\"mw-data:TemplateStyles:r1126788409\" rel=\"mw-deduplicated-inline-style\"/><div class=\"plainlist\">\n",
            "<ul><li><a class=\"mw-redirect\" href=\"/wiki/Asia_Broadcast_Satellite\" title=\"Asia Broadcast Satellite\">ABS</a></li>\n",
            "<li><a href=\"/wiki/Eutelsat\" title=\"Eutelsat\">Eutelsat</a></li></ul>\n",
            "</div>\n",
            "</td>\n",
            "<td class=\"table-success\" style=\"background: #9EFF9E; vertical-align: middle; text-align: center;\">Success\n",
            "</td>\n",
            "<td class=\"table-noAttempt\" style=\"background: #EEE; vertical-align: middle; white-space: nowrap; text-align: center;\">No attempt<sup class=\"reference\" id=\"cite_ref-84\"><a href=\"#cite_note-84\">[77]</a></sup>\n",
            "</td></tr>\n",
            "<tr>\n",
            "<td colspan=\"9\">The launch was Boeing's first conjoined launch of a <a href=\"/wiki/Boeing_702\" title=\"Boeing 702\">lighter-weight dual-commsat stack</a> that was specifically designed to take advantage of the <a href=\"/wiki/Space_launch_market_competition\" title=\"Space launch market competition\">lower-cost</a> SpaceX Falcon 9 launch vehicle.<sup class=\"reference\" id=\"cite_ref-aw20140310_85-0\"><a href=\"#cite_note-aw20140310-85\">[78]</a></sup><sup class=\"reference\" id=\"cite_ref-boeing20141112_86-0\"><a href=\"#cite_note-boeing20141112-86\">[79]</a></sup> Per satellite, launch costs were less than US$30 million.<sup class=\"reference\" id=\"cite_ref-sfn20150302_87-0\"><a href=\"#cite_note-sfn20150302-87\">[80]</a></sup> The ABS satellite reached its final destination ahead of schedule and started operations on 10 September 2015.<sup class=\"reference\" id=\"cite_ref-boeing_88-0\"><a href=\"#cite_note-boeing-88\">[81]</a></sup>\n",
            "</td></tr>\n",
            "<tr>\n",
            "<th rowspan=\"2\" scope=\"row\" style=\"text-align:center;\">17\n",
            "</th>\n",
            "<td>14 April 2015,<br/>20:10<sup class=\"reference\" id=\"cite_ref-SFN_LLog_27-4\"><a href=\"#cite_note-SFN_LLog-27\">[21]</a></sup>\n",
            "</td>\n",
            "<td><a href=\"/wiki/Falcon_9_v1.1\" title=\"Falcon 9 v1.1\">F9 v1.1</a><br/>B1015<sup class=\"reference\" id=\"cite_ref-block_numbers_14-11\"><a href=\"#cite_note-block_numbers-14\">[8]</a></sup>\n",
            "</td>\n",
            "<td><a class=\"mw-redirect\" href=\"/wiki/Cape_Canaveral_Air_Force_Station\" title=\"Cape Canaveral Air Force Station\">Cape Canaveral</a>,<br/><a href=\"/wiki/Cape_Canaveral_Space_Launch_Complex_40\" title=\"Cape Canaveral Space Launch Complex 40\">LC-40</a>\n",
            "</td>\n",
            "<td><a href=\"/wiki/SpaceX_CRS-6\" title=\"SpaceX CRS-6\">SpaceX CRS-6</a><sup class=\"reference\" id=\"cite_ref-sxManifest20130731_75-3\"><a href=\"#cite_note-sxManifest20130731-75\">[68]</a></sup><br/>(Dragon <a href=\"/wiki/Dragon_C108\" title=\"Dragon C108\">C108.1</a>)\n",
            "</td>\n",
            "<td>1,898 kg (4,184 lb)<sup class=\"reference\" id=\"cite_ref-89\"><a href=\"#cite_note-89\">[82]</a></sup>\n",
            "</td>\n",
            "<td><a class=\"mw-redirect\" href=\"/wiki/Low_Earth_Orbit\" title=\"Low Earth Orbit\">LEO</a> (<a class=\"mw-redirect\" href=\"/wiki/ISS\" title=\"ISS\">ISS</a>)\n",
            "</td>\n",
            "<td><a href=\"/wiki/NASA\" title=\"NASA\">NASA</a> (<a href=\"/wiki/Commercial_Resupply_Services\" title=\"Commercial Resupply Services\">CRS</a>)\n",
            "</td>\n",
            "<td class=\"table-success\" style=\"background: #9EFF9E; vertical-align: middle; text-align: center;\">Success\n",
            "</td>\n",
            "<td class=\"table-failure\" style=\"background: #FFC7C7; vertical-align: middle; text-align: center;\">Failure<sup class=\"reference\" id=\"cite_ref-90\"><a href=\"#cite_note-90\">[83]</a></sup><br/><small>(drone ship)</small>\n",
            "</td></tr>\n",
            "<tr>\n",
            "<td colspan=\"9\">After second-stage separation, a controlled-descent test was attempted with the first stage. After the booster contacted the ship, it tipped over due to excess lateral velocity caused by a stuck throttle valve that delayed downthrottle at the correct time.<sup class=\"reference\" id=\"cite_ref-91\"><a href=\"#cite_note-91\">[84]</a></sup><sup class=\"reference\" id=\"cite_ref-92\"><a href=\"#cite_note-92\">[85]</a></sup>\n",
            "</td></tr>\n",
            "<tr>\n",
            "<th rowspan=\"2\" scope=\"row\" style=\"text-align:center;\">18\n",
            "</th>\n",
            "<td>27 April 2015,<br/>23:03<sup class=\"reference\" id=\"cite_ref-patrickafb20150414_93-0\"><a href=\"#cite_note-patrickafb20150414-93\">[86]</a></sup>\n",
            "</td>\n",
            "<td><a href=\"/wiki/Falcon_9_v1.1\" title=\"Falcon 9 v1.1\">F9 v1.1</a><br/>B1016<sup class=\"reference\" id=\"cite_ref-block_numbers_14-12\"><a href=\"#cite_note-block_numbers-14\">[8]</a></sup>\n",
            "</td>\n",
            "<td><a href=\"/wiki/Cape_Canaveral_Space_Force_Station\" title=\"Cape Canaveral Space Force Station\">Cape Canaveral</a>,<br/><a href=\"/wiki/Cape_Canaveral_Space_Launch_Complex_40\" title=\"Cape Canaveral Space Launch Complex 40\">LC-40</a>\n",
            "</td>\n",
            "<td><a href=\"/wiki/T%C3%BCrkmen%C3%84lem_52%C2%B0E_/_MonacoSAT\" title=\"TürkmenÄlem 52°E / MonacoSAT\">TürkmenÄlem 52°E / MonacoSAT</a><sup class=\"reference\" id=\"cite_ref-sxManifest20130731_75-4\"><a href=\"#cite_note-sxManifest20130731-75\">[68]</a></sup><sup class=\"reference\" id=\"cite_ref-turkmen-monaco_94-0\"><a href=\"#cite_note-turkmen-monaco-94\">[87]</a></sup>\n",
            "</td>\n",
            "<td>4,707 kg (10,377 lb)\n",
            "</td>\n",
            "<td><a href=\"/wiki/Geostationary_transfer_orbit\" title=\"Geostationary transfer orbit\">GTO</a>\n",
            "</td>\n",
            "<td><a href=\"/wiki/Turkmenistan_National_Space_Agency\" title=\"Turkmenistan National Space Agency\">Turkmenistan National<br/>Space Agency</a><sup class=\"reference\" id=\"cite_ref-95\"><a href=\"#cite_note-95\">[88]</a></sup>\n",
            "</td>\n",
            "<td class=\"table-success\" style=\"background: #9EFF9E; vertical-align: middle; text-align: center;\">Success\n",
            "</td>\n",
            "<td class=\"table-noAttempt\" style=\"background: #EEE; vertical-align: middle; white-space: nowrap; text-align: center;\">No attempt<sup class=\"reference\" id=\"cite_ref-96\"><a href=\"#cite_note-96\">[89]</a></sup>\n",
            "</td></tr>\n",
            "<tr>\n",
            "<td colspan=\"9\">Original intended launch was delayed over a month after an issue with the helium pressurisation system was identified on similar parts in the assembly plant.<sup class=\"reference\" id=\"cite_ref-zgn20150323_97-0\"><a href=\"#cite_note-zgn20150323-97\">[90]</a></sup> Subsequent launch successfully positioned this first Turkmen satellite at 52.0° east.\n",
            "</td></tr>\n",
            "<tr>\n",
            "<th rowspan=\"2\" scope=\"row\" style=\"text-align:center;\">19\n",
            "</th>\n",
            "<td>28 June 2015,<br/>14:21<sup class=\"reference\" id=\"cite_ref-SFN_LLog_27-5\"><a href=\"#cite_note-SFN_LLog-27\">[21]</a></sup><sup class=\"reference\" id=\"cite_ref-nasama20150520_98-0\"><a href=\"#cite_note-nasama20150520-98\">[91]</a></sup>\n",
            "</td>\n",
            "<td><a href=\"/wiki/Falcon_9_v1.1\" title=\"Falcon 9 v1.1\">F9 v1.1</a><br/>B1018<sup class=\"reference\" id=\"cite_ref-block_numbers_14-13\"><a href=\"#cite_note-block_numbers-14\">[8]</a></sup>\n",
            "</td>\n",
            "<td><a href=\"/wiki/Cape_Canaveral_Space_Force_Station\" title=\"Cape Canaveral Space Force Station\">Cape Canaveral</a>,<br/><a href=\"/wiki/Cape_Canaveral_Space_Launch_Complex_40\" title=\"Cape Canaveral Space Launch Complex 40\">LC-40</a>\n",
            "</td>\n",
            "<td><a href=\"/wiki/SpaceX_CRS-7\" title=\"SpaceX CRS-7\">SpaceX CRS-7</a><sup class=\"reference\" id=\"cite_ref-sxManifest20130731_75-5\"><a href=\"#cite_note-sxManifest20130731-75\">[68]</a></sup><br/>(Dragon C109)\n",
            "</td>\n",
            "<td>1,952 kg (4,303 lb)<sup class=\"reference\" id=\"cite_ref-99\"><a href=\"#cite_note-99\">[92]</a></sup>\n",
            "</td>\n",
            "<td><a class=\"mw-redirect\" href=\"/wiki/Low_Earth_Orbit\" title=\"Low Earth Orbit\">LEO</a> (<a class=\"mw-redirect\" href=\"/wiki/ISS\" title=\"ISS\">ISS</a>)\n",
            "</td>\n",
            "<td><a href=\"/wiki/NASA\" title=\"NASA\">NASA</a> (<a href=\"/wiki/Commercial_Resupply_Services\" title=\"Commercial Resupply Services\">CRS</a>)\n",
            "</td>\n",
            "<td class=\"table-failure\" style=\"background: #FFC7C7; vertical-align: middle; text-align: center;\">Failure<sup class=\"reference\" id=\"cite_ref-nyt-20150628_100-0\"><a href=\"#cite_note-nyt-20150628-100\">[93]</a></sup><br/><small>(in flight)</small>\n",
            "</td>\n",
            "<td style=\"background:#ececec; text-align:center;\">Precluded<sup class=\"reference\" id=\"cite_ref-101\"><a href=\"#cite_note-101\">[94]</a></sup><br/><small><span class=\"nowrap\">(drone ship)</span></small>\n",
            "</td></tr>\n",
            "<tr>\n",
            "<td colspan=\"9\">Launch performance was nominal until an overpressure incident in the second-stage <a class=\"mw-redirect\" href=\"/wiki/LOX\" title=\"LOX\">LOX</a> tank, leading to vehicle breakup at T+150 seconds. Dragon capsule survived the explosion but was lost upon splashdown as its software did not contain provisions for parachute deployment on launch vehicle failure.<sup class=\"reference\" id=\"cite_ref-nsf-20150727_102-0\"><a href=\"#cite_note-nsf-20150727-102\">[95]</a></sup><small>(<a href=\"#Loss_of_CRS-7_mission\">more details below</a>)</small> The drone ship <i>Of Course I Still Love You</i> was towed out to sea to prepare for a landing test so this mission was its first operational assignment.<sup class=\"reference\" id=\"cite_ref-nsf20150618_103-0\"><a href=\"#cite_note-nsf20150618-103\">[96]</a></sup>\n",
            "</td></tr>\n",
            "<tr>\n",
            "<th rowspan=\"2\" scope=\"row\" style=\"text-align:center;\">20\n",
            "</th>\n",
            "<td>22 December 2015,<br/>01:29<sup class=\"reference\" id=\"cite_ref-orbcomm-og2_104-0\"><a href=\"#cite_note-orbcomm-og2-104\">[97]</a></sup>\n",
            "</td>\n",
            "<td><a href=\"/wiki/Falcon_9_Full_Thrust\" title=\"Falcon 9 Full Thrust\">F9 FT</a><br/>B1019.1<sup class=\"reference\" id=\"cite_ref-flight20-booster_105-0\"><a href=\"#cite_note-flight20-booster-105\">[98]</a></sup>\n",
            "</td>\n",
            "<td><a href=\"/wiki/Cape_Canaveral_Space_Force_Station\" title=\"Cape Canaveral Space Force Station\">Cape Canaveral</a>,<br/><a href=\"/wiki/Cape_Canaveral_Space_Launch_Complex_40\" title=\"Cape Canaveral Space Launch Complex 40\">LC-40</a>\n",
            "</td>\n",
            "<td><a class=\"mw-redirect\" href=\"/wiki/Orbcomm-OG2\" title=\"Orbcomm-OG2\">Orbcomm-OG2</a>-2<br/>(11 satellites)<sup class=\"reference\" id=\"cite_ref-sxManifest20120925_28-10\"><a href=\"#cite_note-sxManifest20120925-28\">[22]</a></sup><sup class=\"reference\" id=\"cite_ref-orbcomm-og2_104-1\"><a href=\"#cite_note-orbcomm-og2-104\">[97]</a></sup>\n",
            "</td>\n",
            "<td>2,034 kg (4,484 lb)\n",
            "</td>\n",
            "<td><a class=\"mw-redirect\" href=\"/wiki/Low_Earth_Orbit\" title=\"Low Earth Orbit\">LEO</a>\n",
            "</td>\n",
            "<td><a href=\"/wiki/Orbcomm\" title=\"Orbcomm\">Orbcomm</a>\n",
            "</td>\n",
            "<td class=\"table-success\" style=\"background: #9EFF9E; vertical-align: middle; text-align: center;\">Success\n",
            "</td>\n",
            "<td class=\"table-success\" style=\"background: #9EFF9E; vertical-align: middle; text-align: center;\">Success<sup class=\"reference\" id=\"cite_ref-flight20-landing_106-0\"><a href=\"#cite_note-flight20-landing-106\">[99]</a></sup><br/><small><span class=\"nowrap\">(ground pad)</span></small>\n",
            "</td></tr>\n",
            "<tr>\n",
            "<td colspan=\"9\">Payload included eleven satellites weighing 172 kg (379 lb) each,<sup class=\"reference\" id=\"cite_ref-gunter-og2_30-2\"><a href=\"#cite_note-gunter-og2-30\">[24]</a></sup> and a 142 kg (313 lb) mass simulator.<sup class=\"reference\" id=\"cite_ref-gunter-og2-sim_59-1\"><a href=\"#cite_note-gunter-og2-sim-59\">[52]</a></sup> First launch of the upgraded v1.1 version, with a 30% power increase.<sup class=\"reference\" id=\"cite_ref-sn20151016_107-0\"><a href=\"#cite_note-sn20151016-107\">[100]</a></sup> Orbcomm had originally agreed to be the third flight of the enhanced-thrust rocket,<sup class=\"reference\" id=\"cite_ref-sn20150508_108-0\"><a href=\"#cite_note-sn20150508-108\">[101]</a></sup> but the change to the maiden flight position was announced in October 2015.<sup class=\"reference\" id=\"cite_ref-sn20151016_107-1\"><a href=\"#cite_note-sn20151016-107\">[100]</a></sup> SpaceX received a permit from the <a class=\"mw-redirect\" href=\"/wiki/FAA\" title=\"FAA\">FAA</a> to land the booster <a href=\"/wiki/Landing_Zones_1_and_2\" title=\"Landing Zones 1 and 2\">on solid ground</a> at <a href=\"/wiki/Cape_Canaveral_Space_Force_Station\" title=\"Cape Canaveral Space Force Station\">Cape Canaveral</a><sup class=\"reference\" id=\"cite_ref-109\"><a href=\"#cite_note-109\">[102]</a></sup> and succeeded for the first time.<sup class=\"reference\" id=\"cite_ref-flight20-landing_106-1\"><a href=\"#cite_note-flight20-landing-106\">[99]</a></sup> This booster, serial number <a class=\"mw-redirect\" href=\"/wiki/B1019\" title=\"B1019\">B1019</a>, is now on permanent display outside SpaceX's headquarters in <a href=\"/wiki/Hawthorne,_California\" title=\"Hawthorne, California\">Hawthorne, California</a>, at the intersection of Crenshaw Boulevard and Jack Northrop Avenue.<sup class=\"reference\" id=\"cite_ref-flight20-booster_105-1\"><a href=\"#cite_note-flight20-booster-105\">[98]</a></sup> <small>(<a href=\"#Full-thrust_version_and_first_booster_landings\">more details below</a>)</small>\n",
            "</td></tr></tbody></table>\n"
          ]
        }
      ],
      "source": [
        "# Let's print the third table and check its content\n",
        "first_launch_table = html_tables[2]\n",
        "print(first_launch_table)"
      ],
      "execution_count": null
    },
    {
      "cell_type": "markdown",
      "metadata": {
        "id": "c1d4191c-6f61-451c-acbc-8951747f2320"
      },
      "source": [
        "You should able to see the columns names embedded in the table header elements `<th>` as follows:\n"
      ]
    },
    {
      "cell_type": "markdown",
      "metadata": {
        "id": "852b4c4c-8af5-4968-a71d-3b2d5e4e137b"
      },
      "source": [
        "```\n",
        "<tr>\n",
        "<th scope=\"col\">Flight No.\n",
        "</th>\n",
        "<th scope=\"col\">Date and<br/>time (<a href=\"/wiki/Coordinated_Universal_Time\" title=\"Coordinated Universal Time\">UTC</a>)\n",
        "</th>\n",
        "<th scope=\"col\"><a href=\"/wiki/List_of_Falcon_9_first-stage_boosters\" title=\"List of Falcon 9 first-stage boosters\">Version,<br/>Booster</a> <sup class=\"reference\" id=\"cite_ref-booster_11-0\"><a href=\"#cite_note-booster-11\">[b]</a></sup>\n",
        "</th>\n",
        "<th scope=\"col\">Launch site\n",
        "</th>\n",
        "<th scope=\"col\">Payload<sup class=\"reference\" id=\"cite_ref-Dragon_12-0\"><a href=\"#cite_note-Dragon-12\">[c]</a></sup>\n",
        "</th>\n",
        "<th scope=\"col\">Payload mass\n",
        "</th>\n",
        "<th scope=\"col\">Orbit\n",
        "</th>\n",
        "<th scope=\"col\">Customer\n",
        "</th>\n",
        "<th scope=\"col\">Launch<br/>outcome\n",
        "</th>\n",
        "<th scope=\"col\"><a href=\"/wiki/Falcon_9_first-stage_landing_tests\" title=\"Falcon 9 first-stage landing tests\">Booster<br/>landing</a>\n",
        "</th></tr>\n",
        "```\n"
      ]
    },
    {
      "cell_type": "markdown",
      "metadata": {
        "id": "587b33ae-9057-4a1d-8362-9b45b064d8d6"
      },
      "source": [
        "Next, we just need to iterate through the `<th>` elements and apply the provided `extract_column_from_header()` to extract column name one by one\n"
      ]
    },
    {
      "cell_type": "code",
      "metadata": {
        "colab": {
          "base_uri": "https://localhost:8080/"
        },
        "id": "3fa46d57-df59-47d8-9572-0ee238d81fcf",
        "outputId": "cc77becf-3e7d-4f8d-bfdd-e585f4cffa0d"
      },
      "outputs": [
        {
          "output_type": "stream",
          "name": "stdout",
          "text": [
            "['Flight No.', 'Date and time ( )', '', 'Launch site', 'Payload', 'Payload mass', 'Orbit', 'Customer', 'Launch outcome', '', None, None, None, None, None, None, None]\n",
            "['Flight No.', 'Date and time ( )', 'Launch site', 'Payload', 'Payload mass', 'Orbit', 'Customer', 'Launch outcome']\n"
          ]
        }
      ],
      "source": [
        "column_names = []\n",
        "\n",
        "# Apply find_all() function with `th` element on first_launch_table\n",
        "column_names = first_launch_table.find_all('th')\n",
        "# Iterate each th element and apply the provided extract_column_from_header() to get a column name\n",
        "column_names = []\n",
        "for header in first_launch_table.find_all('th'):\n",
        "    column_names.append(extract_column_from_header(header))\n",
        "print(column_names)\n",
        "# Append the Non-empty column name (`if name is not None and len(name) > 0`) into a list called column_names\n",
        "column_names = []\n",
        "\n",
        "# Apply find_all() function with `th` element on first_launch_table\n",
        "for header in first_launch_table.find_all('th'):\n",
        "    # Use `extract_column_from_header()` to extract column name one by one\n",
        "    name = extract_column_from_header(header)\n",
        "    # Append the Non-empty column name (`if name is not None and len(name) > 0`) into a list called column_names\n",
        "    if name is not None and len(name) > 0:\n",
        "        column_names.append(name)\n",
        "\n",
        "print(column_names)"
      ],
      "execution_count": null
    },
    {
      "cell_type": "markdown",
      "metadata": {
        "id": "79a7ca6a-0650-4171-b03f-9d04802df440"
      },
      "source": [
        "Check the extracted column names\n"
      ]
    },
    {
      "cell_type": "code",
      "metadata": {
        "colab": {
          "base_uri": "https://localhost:8080/"
        },
        "id": "0c6cd4cd-b399-4d3b-8c8a-38ec6c4028e2",
        "outputId": "2dc0e8cb-3569-47ec-cb28-b9b93c76ba39"
      },
      "outputs": [
        {
          "output_type": "stream",
          "name": "stdout",
          "text": [
            "['Flight No.', 'Date and time ( )', 'Launch site', 'Payload', 'Payload mass', 'Orbit', 'Customer', 'Launch outcome']\n"
          ]
        }
      ],
      "source": [
        "print(column_names)"
      ],
      "execution_count": null
    },
    {
      "cell_type": "markdown",
      "metadata": {
        "id": "63600678-6581-4cbc-b6cb-1d733fbf247f"
      },
      "source": [
        "## TASK 3: Create a data frame by parsing the launch HTML tables\n"
      ]
    },
    {
      "cell_type": "markdown",
      "metadata": {
        "id": "dfb1dfb0-ee73-4587-b38d-ddebe4f41940"
      },
      "source": [
        "We will create an empty dictionary with keys from the extracted column names in the previous task. Later, this dictionary will be converted into a Pandas dataframe\n"
      ]
    },
    {
      "cell_type": "code",
      "metadata": {
        "id": "0aa18a5d-916e-4785-a732-fba1c9086c4e"
      },
      "outputs": [],
      "source": [
        "launch_dict= dict.fromkeys(column_names)\n",
        "\n",
        "# Remove an irrelvant column\n",
        "del launch_dict['Date and time ( )']\n",
        "\n",
        "# Let's initial the launch_dict with each value to be an empty list\n",
        "launch_dict['Flight No.'] = []\n",
        "launch_dict['Launch site'] = []\n",
        "launch_dict['Payload'] = []\n",
        "launch_dict['Payload mass'] = []\n",
        "launch_dict['Orbit'] = []\n",
        "launch_dict['Customer'] = []\n",
        "launch_dict['Launch outcome'] = []\n",
        "# Added some new columns\n",
        "launch_dict['Version Booster']=[]\n",
        "launch_dict['Booster landing']=[]\n",
        "launch_dict['Date']=[]\n",
        "launch_dict['Time']=[]"
      ],
      "execution_count": null
    },
    {
      "cell_type": "markdown",
      "metadata": {
        "id": "132fda4c-66b9-4ffd-8716-a8e11ab666ac"
      },
      "source": [
        "Next, we just need to fill up the `launch_dict` with launch records extracted from table rows.\n"
      ]
    },
    {
      "cell_type": "markdown",
      "metadata": {
        "id": "f390337b-f7e9-4f19-a07e-ffd3c1585974"
      },
      "source": [
        "Usually, HTML tables in Wiki pages are likely to contain unexpected annotations and other types of noises, such as reference links `B0004.1[8]`, missing values `N/A [e]`, inconsistent formatting, etc.\n"
      ]
    },
    {
      "cell_type": "markdown",
      "metadata": {
        "id": "66e239d2-0d35-4f9c-b614-d92ac20d360d"
      },
      "source": [
        "To simplify the parsing process, we have provided an incomplete code snippet below to help you to fill up the `launch_dict`. Please complete the following code snippet with TODOs or you can choose to write your own logic to parse all launch tables:\n"
      ]
    },
    {
      "cell_type": "code",
      "source": [
        "# prompt: Append the flight_number into launch_dict with key `Flight No.`\n",
        "\n",
        "extracted_row = 0\n",
        "#Extract each table\n",
        "for table in soup.find_all('table', class_='wikitable plainrowheaders collapsible'):\n",
        "   # Skip the unnecessary tables\n",
        "    if not(table['id'] == \"First_Launch_Table\"):\n",
        "        continue\n",
        "    for rows in table.find_all(\"tr\"):\n",
        "        # Check if tr contains table header\n",
        "        if rows.th:\n",
        "            if rows.th.string.strip().isdigit():\n",
        "                flight_number = rows.th.string.strip()\n",
        "                flag = 1\n",
        "        else:\n",
        "            flag = 0\n",
        "        # Get table element\n",
        "        row = rows.find_all('td')\n",
        "        # If it is a table header\n",
        "        if flag:\n",
        "            extracted_row = 1\n",
        "        # If it is a launch record\n",
        "        else:\n",
        "            extracted_row = 0\n",
        "            # Flight Number value\n",
        "            # TODO: Append the flight_number into launch_dict with key `Flight No.`\n",
        "            datatimelist = date_time(row[0])\n",
        "            date = datatimelist[0].strip(',')\n",
        "            time = datatimelist[1]\n",
        "            bv = booster_version(row[1])\n",
        "            if not(bv):\n",
        "                bv = row[1].a.string\n",
        "            launch_site = row[2].a.string\n",
        "            payload = row[3].a.string\n",
        "            payload_mass = get_mass(row[4])\n",
        "            orbit = row[5].a.string\n",
        "            customer = row[6].a.string if row[6].a else None\n",
        "            launch_outcome = list(row[7].strings)[0]\n",
        "            booster_landing = landing_status(row[8])\n",
        "            launch_dict['Flight No.'].append(flight_number)\n",
        "            launch_dict['Launch site'].append(launch_site)\n",
        "            launch_dict['Payload'].append(payload)\n",
        "            launch_dict['Payload mass'].append(payload_mass)\n",
        "            launch_dict['Orbit'].append(orbit)\n",
        "            launch_dict['Customer'].append(customer)\n",
        "            launch_dict['Launch outcome'].append(launch_outcome)\n",
        "            launch_dict['Booster landing'].append(booster_landing)\n",
        "            launch_dict['Date'].append(date)\n",
        "            launch_dict['Time'].append(time)\n",
        "            launch_dict['Version Booster'].append(bv)\n",
        "\n"
      ],
      "metadata": {
        "id": "Or6W2nrsQhwa"
      },
      "execution_count": null,
      "outputs": []
    },
    {
      "cell_type": "code",
      "source": [
        "extracted_row = 0\n",
        "#Extract each table\n",
        "for table_number,table in enumerate(soup.find_all('table',\"wikitable plainrowheaders collapsible\")):\n",
        "   # get table row\n",
        "    for rows in table.find_all(\"tr\"):\n",
        "        #check to see if first table heading is as number corresponding to launch a number\n",
        "        if rows.th:\n",
        "            if rows.th.string:\n",
        "                flight_number=rows.th.string.strip()\n",
        "                flag=flight_number.isdigit()\n",
        "        else:\n",
        "            flag=False\n",
        "        #get table element\n",
        "        row=rows.find_all('td')\n",
        "        #if it is number save cells in a dictonary\n",
        "        if flag:\n",
        "            extracted_row += 1\n",
        "            # Flight Number value\n",
        "            # TODO: Append the flight_number into launch_dict with key `Flight No.`\n",
        "            launch_dict['Flight No.'] = flight_number\n",
        "            datatimelist=date_time(row[0])\n",
        "\n",
        "            # Date value\n",
        "            # TODO: Append the date into launch_dict with key `Date`\n",
        "            date = datatimelist[0].strip(',')\n",
        "            launch_dict['Date'] = date\n",
        "            #print(date)\n",
        "\n",
        "            # Time value\n",
        "            # TODO: Append the time into launch_dict with key `Time`\n",
        "            time = datatimelist[1]\n",
        "            launch_dict['Time'] = time\n",
        "            #print(time)\n",
        "\n",
        "            # Booster version\n",
        "            # TODO: Append the bv into launch_dict with key `Version Booster`\n",
        "            bv=booster_version(row[1])\n",
        "            if not(bv):\n",
        "                bv=row[1].a.string\n",
        "            print(bv)\n",
        "            launch_dict['Version Booster'] = bv\n",
        "\n",
        "            # Launch Site\n",
        "            # TODO: Append the bv into launch_dict with key `Launch Site`\n",
        "            launch_site = row[2].a.string\n",
        "            launch_dict['Launch Site'] = launch_site\n",
        "            #print(launch_site)\n",
        "\n",
        "            # Payload\n",
        "            # TODO: Append the payload into launch_dict with key `Payload`\n",
        "            payload = row[3].a.string\n",
        "            launch_dict['Payload'] = payload\n",
        "            #print(payload)\n",
        "\n",
        "            # Payload Mass\n",
        "            # TODO: Append the payload_mass into launch_dict with key `Payload mass`\n",
        "            payload_mass = get_mass(row[4])\n",
        "            launch_dict['payload_mass'] = payload_mass\n",
        "            #print(payload)\n",
        "\n",
        "            # Orbit\n",
        "            # TODO: Append the orbit into launch_dict with key `Orbit`\n",
        "            orbit = row[5].a.string\n",
        "            launch_dict['Orbit'] = orbit\n",
        "            #print(orbit)\n",
        "\n",
        "            # Customer\n",
        "            # TODO: Append the customer into launch_dict with key `Customer`\n",
        "            if row[6].a:\n",
        "              customer = row[6].a.string\n",
        "            else:\n",
        "              customer = None\n",
        "            launch_dict['Customer'] = customer\n",
        "            #print(customer)\n",
        "\n",
        "            # Launch outcome\n",
        "            # TODO: Append the launch_outcome into launch_dict with key `Launch outcome`\n",
        "            launch_outcome = list(row[7].strings)[0]\n",
        "            launch_dict['Launch outcome'] = launch_outcome\n",
        "            #print(launch_outcome)\n",
        "\n",
        "            # Booster landing\n",
        "            # TODO: Append the launch_outcome into launch_dict with key `Booster landing`\n",
        "            booster_landing = landing_status(row[8])\n",
        "            launch_dict['Booster landing'] = booster_landing\n",
        "            #print(booster_landing)\n",
        "\n"
      ],
      "metadata": {
        "colab": {
          "base_uri": "https://localhost:8080/"
        },
        "id": "I6bHuUgQQKkX",
        "outputId": "e87a429f-ea85-4381-bf33-acf4f1bcc408"
      },
      "execution_count": null,
      "outputs": [
        {
          "output_type": "stream",
          "name": "stdout",
          "text": [
            "F9 v1.0B0003.1\n",
            "F9 v1.0B0004.1\n",
            "F9 v1.0B0005.1\n",
            "F9 v1.0B0006.1\n",
            "F9 v1.0B0007.1\n",
            "F9 v1.1B1003\n",
            "F9 v1.1\n",
            "F9 v1.1\n",
            "F9 v1.1\n",
            "F9 v1.1\n",
            "F9 v1.1\n",
            "F9 v1.1\n",
            "F9 v1.1\n",
            "F9 v1.1\n",
            "F9 v1.1\n",
            "F9 v1.1\n",
            "F9 v1.1\n",
            "F9 v1.1\n",
            "F9 v1.1\n",
            "F9 FT\n",
            "F9 v1.1\n",
            "F9 FT\n",
            "F9 FT\n",
            "F9 FT\n",
            "F9 FT\n",
            "F9 FT\n",
            "F9 FT\n",
            "F9 FT\n",
            "F9 FT\n",
            "F9 FT\n",
            "F9 FT\n",
            "F9 FT♺\n",
            "F9 FT\n",
            "F9 FT\n",
            "F9 FT\n",
            "F9 FTB1029.2\n",
            "F9 FT\n",
            "F9 FT\n",
            "F9 B4\n",
            "F9 FT\n",
            "F9 B4\n",
            "F9 B4\n",
            "F9 FTB1031.2\n",
            "F9 B4\n",
            "F9 FTB1035.2\n",
            "F9 FTB1036.2\n",
            "F9 B4\n",
            "F9 FTB1032.2\n",
            "F9 FTB1038.2\n",
            "F9 B4\n",
            "F9 B4B1041.2\n",
            "F9 B4B1039.2\n",
            "F9 B4\n",
            "F9 B5B1046.1\n",
            "F9 B4B1043.2\n",
            "F9 B4B1040.2\n",
            "F9 B4B1045.2\n",
            "F9 B5\n",
            "F9 B5B1048\n",
            "F9 B5B1046.2\n",
            "F9 B5\n",
            "F9 B5B1048.2\n",
            "F9 B5B1047.2\n",
            "F9 B5B1046.3\n",
            "F9 B5\n",
            "F9 B5\n",
            "F9 B5B1049.2\n",
            "F9 B5B1048.3\n",
            "F9 B5[268]\n",
            "F9 B5\n",
            "F9 B5B1049.3\n",
            "F9 B5B1051.2\n",
            "F9 B5B1056.2\n",
            "F9 B5B1047.3\n",
            "F9 B5\n",
            "F9 B5\n",
            "F9 B5B1056.3\n",
            "F9 B5\n",
            "F9 B5\n",
            "F9 B5\n",
            "F9 B5\n",
            "F9 B5\n",
            "F9 B5\n",
            "F9 B5\n",
            "F9 B5\n",
            "F9 B5\n",
            "F9 B5\n",
            "F9 B5\n",
            "F9 B5B1058.2\n",
            "F9 B5\n",
            "F9 B5B1049.6\n",
            "F9 B5\n",
            "F9 B5B1060.2\n",
            "F9 B5B1058.3\n",
            "F9 B5B1051.6\n",
            "F9 B5\n",
            "F9 B5\n",
            "F9 B5\n",
            "F9 B5\n",
            "F9 B5 ♺\n",
            "F9 B5 ♺\n",
            "F9 B5 ♺\n",
            "F9 B5 ♺\n",
            "F9 B5\n",
            "F9 B5B1051.8\n",
            "F9 B5B1058.5\n",
            "F9 B5 ♺\n",
            "F9 B5 ♺\n",
            "F9 B5 ♺\n",
            "F9 B5 ♺\n",
            "F9 B5 ♺\n",
            "F9 B5B1060.6\n",
            "F9 B5 ♺\n",
            "F9 B5B1061.2\n",
            "F9 B5B1060.7\n",
            "F9 B5B1049.9\n",
            "F9 B5B1051.10\n",
            "F9 B5B1058.8\n",
            "F9 B5B1063.2\n",
            "F9 B5B1067.1\n",
            "F9 B5\n"
          ]
        }
      ]
    },
    {
      "cell_type": "markdown",
      "metadata": {
        "id": "efbe10b6-f06d-46d2-8a3e-a8a429008d0d"
      },
      "source": [
        "After you have fill in the parsed launch record values into `launch_dict`, you can create a dataframe from it.\n"
      ]
    },
    {
      "cell_type": "code",
      "metadata": {
        "id": "959c9d53-80e0-4ebb-9146-8aad02ceb63a"
      },
      "outputs": [],
      "source": [
        "df= pd.DataFrame({ key:pd.Series(value) for key, value in launch_dict.items() })"
      ],
      "execution_count": null
    },
    {
      "cell_type": "markdown",
      "metadata": {
        "id": "3d11ac33-1484-4e62-832a-73d4a9092c7f"
      },
      "source": [
        "We can now export it to a <b>CSV</b> for the next section, but to make the answers consistent and in case you have difficulties finishing this lab.\n",
        "\n",
        "Following labs will be using a provided dataset to make each lab independent.\n"
      ]
    },
    {
      "cell_type": "markdown",
      "metadata": {
        "id": "acc1243d-72af-4e63-ac6e-88d57274dc0c"
      },
      "source": [
        "<code>df.to_csv('spacex_web_scraped.csv', index=False)</code>\n"
      ]
    },
    {
      "cell_type": "code",
      "source": [
        "df.to_csv('spacex_web_scraped.csv', index=False)"
      ],
      "metadata": {
        "id": "_bLtnRHkZllX"
      },
      "execution_count": null,
      "outputs": []
    },
    {
      "cell_type": "markdown",
      "metadata": {
        "id": "1e003580-a101-4947-8d47-3fb4229a510b"
      },
      "source": [
        "## Authors\n"
      ]
    },
    {
      "cell_type": "markdown",
      "metadata": {
        "id": "864217cd-044a-4fdb-bed9-556a775d57b2"
      },
      "source": [
        "<a href=\"https://www.linkedin.com/in/yan-luo-96288783/\">Yan Luo</a>\n"
      ]
    },
    {
      "cell_type": "markdown",
      "metadata": {
        "id": "58e63045-8b3b-4264-b7d8-c73025118d5a"
      },
      "source": [
        "<a href=\"https://www.linkedin.com/in/nayefaboutayoun/\">Nayef Abou Tayoun</a>\n"
      ]
    },
    {
      "cell_type": "markdown",
      "metadata": {
        "id": "d714bd34-d64c-412c-b095-28d73cb8717d"
      },
      "source": [
        "## Change Log\n"
      ]
    },
    {
      "cell_type": "markdown",
      "metadata": {
        "id": "b90dce1e-0239-4167-af29-d9403e8e1f7e"
      },
      "source": [
        "| Date (YYYY-MM-DD) | Version | Changed By | Change Description      |\n",
        "| ----------------- | ------- | ---------- | ----------------------- |\n",
        "| 2021-06-09        | 1.0     | Yan Luo    | Tasks updates           |\n",
        "| 2020-11-10        | 1.0     | Nayef      | Created the initial version |\n"
      ]
    },
    {
      "cell_type": "markdown",
      "metadata": {
        "id": "4c9c9339-b67d-4ecc-99df-98233721a8e8"
      },
      "source": [
        "Copyright © 2021 IBM Corporation. All rights reserved.\n"
      ]
    }
  ],
  "metadata": {
    "kernelspec": {
      "display_name": "Python",
      "language": "python",
      "name": "conda-env-python-py"
    },
    "language_info": {
      "name": ""
    },
    "colab": {
      "provenance": []
    }
  },
  "nbformat": 4,
  "nbformat_minor": 0
}